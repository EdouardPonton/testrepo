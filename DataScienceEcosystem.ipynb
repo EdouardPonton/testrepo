{
 "cells": [
  {
   "cell_type": "markdown",
   "metadata": {},
   "source": [
    "<center>\n",
    "    <img src=\"https://cf-courses-data.s3.us.cloud-object-storage.appdomain.cloud/IBMDeveloperSkillsNetwork-DS0105EN-SkillsNetwork/labs/Module2/images/SN_web_lightmode.png\" width=\"300\" alt=\"cognitiveclass.ai logo\">\n",
    "</center>\n"
   ]
  },
  {
   "cell_type": "markdown",
   "metadata": {},
   "source": [
    "#### Add your code below following the instructions given in the course\n"
   ]
  },
  {
   "cell_type": "markdown",
   "metadata": {},
   "source": [
    "<h1>Data Science Tools and Ecosystem</h1>"
   ]
  },
  {
   "cell_type": "markdown",
   "metadata": {},
   "source": [
    "<p>In this notebook, Data Science Tools and Ecosystem are summarized.</p>"
   ]
  },
  {
   "cell_type": "markdown",
   "metadata": {},
   "source": [
    "<p style=\"display:inline; color:blue;\">Some of the popular languages that Data Scientists use are:</p>"
   ]
  },
  {
   "cell_type": "markdown",
   "metadata": {
    "tags": []
   },
   "source": [
    "  <ul>\n",
    "         <li>R</li>\n",
    "         <li>Jupyter Notebook</li>\n",
    "         <li>Python</li>\n",
    "         <li>Pandas</li>\n",
    "         <li>NumPy</li>\n",
    "        <li>Hadoope</li>\n",
    "        <li>Spark</li>\n",
    "        <li>SQL</li>\n",
    "      </ul>"
   ]
  },
  {
   "cell_type": "markdown",
   "metadata": {},
   "source": [
    "<p style=\"display:inline; color:blue;\">Some of the commonly used libraries used by Data Scientists include:</p>"
   ]
  },
  {
   "cell_type": "markdown",
   "metadata": {},
   "source": [
    "  <ul>\n",
    "         <li>TensorFlow</li>\n",
    "         <li>Matlibplot</li>\n",
    "         <li>SciPy</li>\n",
    "         <li>Plotly</li>\n",
    "      </ul>"
   ]
  },
  {
   "cell_type": "markdown",
   "metadata": {
    "tags": []
   },
   "source": [
    "## Data Science Tools\n",
    "\n",
    "### Development Environment Open Source Tools\n",
    "\n",
    "<table>\n",
    "  <tr>\n",
    "    <th>Tool</th>\n",
    "    <th>Description</th>\n",
    "  </tr>\n",
    "  <tr>\n",
    "    <td><strong>Jupyter Notebook</strong></td>\n",
    "    <td>An open-source web application that allows you to create and share documents that contain live code, equations, visualizations, and narrative text.</td>\n",
    "  </tr>\n",
    "  <tr>\n",
    "    <td><strong>RStudio</strong></td>\n",
    "    <td>An integrated development environment (IDE) for R, a programming language for statistical computing and graphics.</td>\n",
    "  </tr>\n",
    "  <tr>\n",
    "    <td><strong>VS Code</strong></td>\n",
    "    <td>A free source-code editor made by Microsoft for Windows, Linux and macOS.</td>\n",
    "  </tr>\n",
    "</table>"
   ]
  },
  {
   "cell_type": "markdown",
   "metadata": {},
   "source": [
    "<h3>Below are a few examples of evaluating arithmetic expressions in Python<h3>"
   ]
  },
  {
   "cell_type": "markdown",
   "metadata": {},
   "source": [
    "<p> here is how we make a multiplication by example </p>\n",
    "<p> # Multiplying two numbers\n",
    "a = 10\n",
    "b = 5\n",
    "result = a * b\n",
    "print(\"Multiplication:\", result)  # Output: 50\n",
    "    </p>"
   ]
  },
  {
   "cell_type": "code",
   "execution_count": 9,
   "metadata": {
    "tags": []
   },
   "outputs": [
    {
     "data": {
      "text/plain": [
       "17"
      ]
     },
     "execution_count": 9,
     "metadata": {},
     "output_type": "execute_result"
    }
   ],
   "source": [
    "# This a simple arithmetic expression to mutiply then add integers\n",
    "(3*4)+5"
   ]
  },
  {
   "cell_type": "code",
   "execution_count": 10,
   "metadata": {
    "tags": []
   },
   "outputs": [
    {
     "name": "stdout",
     "output_type": "stream",
     "text": [
      "200 minutes is equal to 3.3333333333333335 hours.\n"
     ]
    }
   ],
   "source": [
    "# Specify the number of minutes\n",
    "minutes = 200\n",
    "\n",
    "# Convert minutes to hours\n",
    "hours = minutes / 60\n",
    "\n",
    "# Print the result\n",
    "print(f\"{minutes} minutes is equal to {hours} hours.\")"
   ]
  },
  {
   "cell_type": "markdown",
   "metadata": {},
   "source": [
    "**Objectives:**\n",
    "\n",
    "- We talked about languages like Python & R.\n",
    "- Create and execute basic arithmetic expressions in Python.\n",
    "- Convert units (e.g., minutes to hours) using Python code.\n",
    "- Understand the structure and formatting in Jupyter Notebook."
   ]
  },
  {
   "cell_type": "markdown",
   "metadata": {
    "tags": []
   },
   "source": [
    "<h2>Author</h2>"
   ]
  },
  {
   "cell_type": "markdown",
   "metadata": {
    "tags": []
   },
   "source": [
    "<p> Edouard Ponton </p>"
   ]
  },
  {
   "cell_type": "code",
   "execution_count": null,
   "metadata": {},
   "outputs": [],
   "source": []
  }
 ],
 "metadata": {
  "kernelspec": {
   "display_name": "Python",
   "language": "python",
   "name": "conda-env-python-py"
  },
  "language_info": {
   "codemirror_mode": {
    "name": "ipython",
    "version": 3
   },
   "file_extension": ".py",
   "mimetype": "text/x-python",
   "name": "python",
   "nbconvert_exporter": "python",
   "pygments_lexer": "ipython3",
   "version": "3.7.12"
  }
 },
 "nbformat": 4,
 "nbformat_minor": 4
}
